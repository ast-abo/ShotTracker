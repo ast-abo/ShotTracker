{
  "nbformat": 4,
  "nbformat_minor": 0,
  "metadata": {
    "colab": {
      "provenance": [],
      "authorship_tag": "ABX9TyPlX/3M5b8U2OKUxPZBArln",
      "include_colab_link": true
    },
    "kernelspec": {
      "name": "python3",
      "display_name": "Python 3"
    },
    "language_info": {
      "name": "python"
    }
  },
  "cells": [
    {
      "cell_type": "markdown",
      "metadata": {
        "id": "view-in-github",
        "colab_type": "text"
      },
      "source": [
        "<a href=\"https://colab.research.google.com/github/ast-abo/ShotTracker/blob/master/ShotTrackerModel.ipynb\" target=\"_parent\"><img src=\"https://colab.research.google.com/assets/colab-badge.svg\" alt=\"Open In Colab\"/></a>"
      ]
    },
    {
      "cell_type": "code",
      "execution_count": 2,
      "metadata": {
        "colab": {
          "base_uri": "https://localhost:8080/"
        },
        "id": "sVNv2i0arTZ1",
        "outputId": "1619f163-c982-4a22-8da3-391b3558cbc4"
      },
      "outputs": [
        {
          "output_type": "stream",
          "name": "stdout",
          "text": [
            "tensor([[0.2806, 0.1165, 0.2091, 0.6469, 0.0370],\n",
            "        [0.6501, 0.1002, 0.5651, 0.7280, 0.9826],\n",
            "        [0.2547, 0.5612, 0.2710, 0.2393, 0.2471]])\n"
          ]
        }
      ],
      "source": [
        "import torch\n",
        "import torchvision\n",
        "\n",
        "x = torch.rand(3, 5)\n",
        "print(x)"
      ]
    }
  ]
}